{
 "cells": [
  {
   "cell_type": "markdown",
   "id": "18e4485c-2d79-4bc0-ad23-bb77b0b0a214",
   "metadata": {},
   "source": [
    "# Single Resistor, Constant Charging Rate\n",
    "About as easy as we can get for emulating a battery: $V=IR$\n",
    "\n",
    "Let's make the voltage a linear function of the state of charge, $V(SOC) = 2 + SOC$, and assume the battery has a 1 A-hr capacity (C)."
   ]
  },
  {
   "cell_type": "code",
   "execution_count": 1,
   "id": "e338f1d0-1a69-43e7-acea-45def47a95dc",
   "metadata": {},
   "outputs": [],
   "source": [
    "%matplotlib inline\n",
    "from matplotlib import pyplot as plt\n",
    "from batdata.data import BatteryDataset\n",
    "import pandas as pd\n",
    "import numpy as np"
   ]
  },
  {
   "cell_type": "markdown",
   "id": "f36fcf1c-4975-4d1e-8dbc-5088a7dc93ec",
   "metadata": {},
   "source": [
    "## Assume a Constant Current Charge\n",
    "If we set $I(t) = I_0$ until fully charged and assume $SOC(0)=0$ then we can write down\n",
    "\n",
    "$SOC(t) = I_0t/ C$\n",
    "\n",
    "$V(t) = V(SOC(t)) + I(t) R = 2 + (t/C + R)I_0$"
   ]
  },
  {
   "cell_type": "code",
   "execution_count": 2,
   "id": "1ed3ee03-9b65-4fd0-a600-db4cdb5aa47e",
   "metadata": {},
   "outputs": [],
   "source": [
    "I_0 = 1  # Amp\n",
    "C = 3600 # Amp-s\n",
    "R = 0.1 # Ohm"
   ]
  },
  {
   "cell_type": "markdown",
   "id": "04df2c16-d905-4bb5-936f-95728de42f8e",
   "metadata": {},
   "source": [
    "Set up a 2 hour run where the first hour is charge, and the second hour is discharge"
   ]
  },
  {
   "cell_type": "code",
   "execution_count": 3,
   "id": "ac3af99d-377a-4858-869d-6f570bc0edcc",
   "metadata": {},
   "outputs": [],
   "source": [
    "time = np.linspace(0, 7200, 2401)  # Every 3 seconds\n",
    "time_chg, time_dhg = time[:1201], time[1201:]"
   ]
  },
  {
   "cell_type": "markdown",
   "id": "09a54a3a-9107-469d-a9a4-0bc95a06324d",
   "metadata": {},
   "source": [
    "Compute the segment for charge"
   ]
  },
  {
   "cell_type": "code",
   "execution_count": 4,
   "id": "e99cfb53-71da-44c0-9951-6080721da1d1",
   "metadata": {},
   "outputs": [],
   "source": [
    "current_chg = np.zeros_like(time_chg) + I_0\n",
    "voltage_chg = 2 + (time_chg / C + R) * I_0"
   ]
  },
  {
   "cell_type": "markdown",
   "id": "fca6ab58-5ff8-4127-a514-e7d6ca65225c",
   "metadata": {},
   "source": [
    "Compute the discharge.\n",
    "- $I(t) = -I_0$\n",
    "- $SOC(t) = 1 - I_0t/C$,\n",
    "- $V(t) = V(SOC(t)) + I(t) R = 3 - (t/C + R)I_0$"
   ]
  },
  {
   "cell_type": "code",
   "execution_count": 5,
   "id": "68b0ecb0-eb9b-4628-acfc-3dc56e18df80",
   "metadata": {},
   "outputs": [],
   "source": [
    "time_during_dhg = time_dhg - 3600\n",
    "current_dhg = np.zeros_like(time_dhg) - I_0\n",
    "voltage_dhg = 3 - (time_during_dhg / C + R) * I_0"
   ]
  },
  {
   "cell_type": "markdown",
   "id": "d24f3ade-87a5-45eb-b740-b22068ec9cb5",
   "metadata": {},
   "source": [
    "Combine together"
   ]
  },
  {
   "cell_type": "code",
   "execution_count": 6,
   "id": "b769904f-c9c9-4bd9-9d09-f350aa8c7110",
   "metadata": {},
   "outputs": [],
   "source": [
    "current = np.concatenate((current_chg, current_dhg))\n",
    "voltage = np.concatenate((voltage_chg, voltage_dhg))"
   ]
  },
  {
   "cell_type": "code",
   "execution_count": 7,
   "id": "7bdd678b-faf6-4560-a2db-054b0cac0c26",
   "metadata": {},
   "outputs": [
    {
     "data": {
      "image/png": "[encoded data removed]",
      "text/plain": [
       "<Figure size 350x200 with 2 Axes>"
      ]
     },
     "metadata": {},
     "output_type": "display_data"
    }
   ],
   "source": [
    "fig, ax = plt.subplots(figsize=(3.5, 2.))\n",
    "\n",
    "ax.plot(time, voltage, label='$V$')\n",
    "ax.set_xlabel('Time (s)')\n",
    "ax.set_ylabel('Voltage (V)')\n",
    "\n",
    "ax2 = ax.twinx()\n",
    "ax2.plot(time, current, color='red', label='$I$')\n",
    "ax2.set_ylabel('Current (A)')\n",
    "\n",
    "fig.legend(loc=(0.6, 0.6))\n",
    "fig.tight_layout()"
   ]
  },
  {
   "cell_type": "markdown",
   "id": "46165361-2a41-40b4-b72a-48f0bae7ea80",
   "metadata": {},
   "source": [
    "## Save in HDF5 Format\n",
    "So we can load it in easily later"
   ]
  },
  {
   "cell_type": "code",
   "execution_count": 8,
   "id": "dff068f4-c1b0-499e-85c4-2f51188c1d8d",
   "metadata": {},
   "outputs": [],
   "source": [
    "raw_data = pd.DataFrame({\n",
    "    'test_time': time,\n",
    "    'current': current,\n",
    "    'voltage': voltage,\n",
    "    'cycle_number': np.zeros_like(time, dtype=int),\n",
    "})"
   ]
  },
  {
   "cell_type": "code",
   "execution_count": 9,
   "id": "3ff1ccf6-2aa0-403c-9d8f-a779dfceb90e",
   "metadata": {},
   "outputs": [
    {
     "data": {
      "text/plain": [
       "[]"
      ]
     },
     "execution_count": 9,
     "metadata": {},
     "output_type": "execute_result"
    }
   ],
   "source": [
    "data = BatteryDataset(raw_data=raw_data)\n",
    "data.validate()"
   ]
  },
  {
   "cell_type": "code",
   "execution_count": null,
   "id": "a5193a1c-cee9-4ec3-8139-cd2e45fb12a4",
   "metadata": {},
   "outputs": [],
   "source": [
    "data.to_batdata_hdf('single-resistor-constant-charge.hdf', complevel=9)"
   ]
  },
  {
   "cell_type": "code",
   "execution_count": null,
   "id": "e44ad818-a0d7-40fd-ac81-5c936a093bb4",
   "metadata": {},
   "outputs": [],
   "source": []
  }
 ],
 "metadata": {
  "kernelspec": {
   "display_name": "Python 3 (ipykernel)",
   "language": "python",
   "name": "python3"
  },
  "language_info": {
   "codemirror_mode": {
    "name": "ipython",
    "version": 3
   },
   "file_extension": ".py",
   "mimetype": "text/x-python",
   "name": "python",
   "nbconvert_exporter": "python",
   "pygments_lexer": "ipython3",
   "version": "3.9.18"
  }
 },
 "nbformat": 4,
 "nbformat_minor": 5
}
