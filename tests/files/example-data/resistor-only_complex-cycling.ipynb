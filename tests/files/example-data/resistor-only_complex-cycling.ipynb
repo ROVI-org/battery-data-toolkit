{
 "cells": [
  {
   "cell_type": "markdown",
   "id": "18e4485c-2d79-4bc0-ad23-bb77b0b0a214",
   "metadata": {},
   "source": [
    "# Single Resistor, Pulse During Discharge\n",
    "About as easy as we can get for emulating a battery: $V=IR$\n",
    "\n",
    "Let's make the voltage a linear function of the state of charge, $V(SOC) = 2 + SOC$, and assume the battery has a 1 A-hr capacity (C)."
   ]
  },
  {
   "cell_type": "code",
   "execution_count": 1,
   "id": "e338f1d0-1a69-43e7-acea-45def47a95dc",
   "metadata": {},
   "outputs": [],
   "source": [
    "%matplotlib inline\n",
    "from matplotlib import pyplot as plt\n",
    "from battdat.data import BatteryDataset\n",
    "import pandas as pd\n",
    "import numpy as np"
   ]
  },
  {
   "cell_type": "markdown",
   "id": "f36fcf1c-4975-4d1e-8dbc-5088a7dc93ec",
   "metadata": {},
   "source": [
    "## Assume a Constant Current Charge, with a Pulse in the Midle\n",
    "As [before](./resistor-only_simple-cycling.ipynb), we are going to assume a SOC at $t=0$ of 0.\n",
    "Now, we will make the charge piecewise linear:\n",
    "\n",
    "\\begin{equation}\n",
    "I(t) = \\left\\{ \\begin{array}{lr}\n",
    "   I_0 & t \\le 1800 \\\\\n",
    "   -2I_0 & 1800 < t \\le 1900 \\\\\n",
    "   2I_0 & 1900 < t \\le 2000 \\\\\n",
    "   I_0 & 2000 < t \\le 3800 \n",
    "\\end{array} \\right\\}\n",
    "\\end{equation}\n",
    "\n",
    "The battery is full charged at $t = 3800$, then we discharge at a constant rate of $-I_0$\n"
   ]
  },
  {
   "cell_type": "code",
   "execution_count": 2,
   "id": "1ed3ee03-9b65-4fd0-a600-db4cdb5aa47e",
   "metadata": {},
   "outputs": [],
   "source": [
    "I_0 = 1  # Amp\n",
    "C = 3600 # Amp-s\n",
    "R = 0.1 # Ohm"
   ]
  },
  {
   "cell_type": "markdown",
   "id": "04df2c16-d905-4bb5-936f-95728de42f8e",
   "metadata": {},
   "source": [
    "Specify the charge protocol"
   ]
  },
  {
   "cell_type": "code",
   "execution_count": 3,
   "id": "16e84101-59c2-4e79-8d58-33b29f836de4",
   "metadata": {},
   "outputs": [],
   "source": [
    "data = pd.DataFrame({'time': np.arange(0, 7401, 2, dtype=float)})\n",
    "data['current'] = np.nan"
   ]
  },
  {
   "cell_type": "code",
   "execution_count": 4,
   "id": "9a6b4e48-f6f8-4693-b46e-e5500a66d88f",
   "metadata": {},
   "outputs": [],
   "source": [
    "data.loc[data.time <= 3800, 'current'] = I_0\n",
    "data.loc[data.time <= 2000, 'current'] = 2 * I_0  # Overwriting values, because it's easier tha setting up \n",
    "data.loc[data.time <= 1900, 'current'] = -2 * I_0\n",
    "data.loc[data.time <= 1800, 'current'] = I_0\n",
    "data.loc[data.time > 3800, 'current'] = -I_0"
   ]
  },
  {
   "cell_type": "markdown",
   "id": "5ca3176b-f1a4-47c9-8bcb-50c3b142a6da",
   "metadata": {},
   "source": [
    "Compute the SOC"
   ]
  },
  {
   "cell_type": "code",
   "execution_count": 5,
   "id": "24c8b3cd-414e-4521-b86a-96cb59da7d6a",
   "metadata": {},
   "outputs": [],
   "source": [
    "data['SOC'] = np.nan\n",
    "data.loc[data.time <= 3800, 'SOC'] = (data['time'] - 200) / 3600  # Increase 1A from full charge\n",
    "data.loc[data.time <= 2000, 'SOC'] = 0.5 - 2 * 100 / 3600 + 2 * (data['time'] - 1900) / 3600  # Increase 1A from full charge\n",
    "data.loc[data.time <= 1900, 'SOC'] = 0.5 - 2 * (data['time'] - 1800) / 3600  # Increase 1A from full charge\n",
    "data.loc[data.time <= 1800, 'SOC'] = data['time'] / 3600\n",
    "data.loc[data.time > 3800, 'SOC'] = 1 - (data['time'] - 3800) / 3600"
   ]
  },
  {
   "cell_type": "markdown",
   "id": "434b1360-4aaf-4f8a-9605-284c6dffde03",
   "metadata": {},
   "source": [
    "Compute the voltage\n",
    "\n",
    "$V(t) = SOC(t) + I(t) * 4$"
   ]
  },
  {
   "cell_type": "code",
   "execution_count": 6,
   "id": "44eb4f25-8ac1-44c5-b4e5-cd909aabcdc8",
   "metadata": {},
   "outputs": [],
   "source": [
    "data['voltage'] = 2 + data['SOC'] + data['current'] * R"
   ]
  },
  {
   "cell_type": "code",
   "execution_count": 7,
   "id": "7bdd678b-faf6-4560-a2db-054b0cac0c26",
   "metadata": {},
   "outputs": [
    {
     "data": {
      "image/png": "[encoded data removed]",
      "text/plain": [
       "<Figure size 350x200 with 2 Axes>"
      ]
     },
     "metadata": {},
     "output_type": "display_data"
    }
   ],
   "source": [
    "fig, ax = plt.subplots(figsize=(3.5, 2.))\n",
    "\n",
    "ax.plot(data['time'], data['voltage'], label='$V$')\n",
    "ax.set_xlabel('Time (s)')\n",
    "ax.set_ylabel('Voltage (V)')\n",
    "\n",
    "ax2 = ax.twinx()\n",
    "ax2.plot(data['time'], data['current'], color='red', label='$I$')\n",
    "ax2.set_ylabel('Current (A)')\n",
    "\n",
    "fig.legend(loc=(0.6, 0.6))\n",
    "fig.tight_layout()"
   ]
  },
  {
   "cell_type": "markdown",
   "id": "46165361-2a41-40b4-b72a-48f0bae7ea80",
   "metadata": {},
   "source": [
    "## Save in HDF5 Format\n",
    "So we can load it in easily later"
   ]
  },
  {
   "cell_type": "code",
   "execution_count": 8,
   "id": "dff068f4-c1b0-499e-85c4-2f51188c1d8d",
   "metadata": {},
   "outputs": [],
   "source": [
    "raw_data = pd.DataFrame({\n",
    "    'test_time': data['time'],\n",
    "    'current': data['current'],\n",
    "    'voltage': data['voltage'],\n",
    "    'cycle_number': np.zeros_like(data['time'], dtype=int),\n",
    "})"
   ]
  },
  {
   "cell_type": "code",
   "execution_count": 9,
   "id": "3ff1ccf6-2aa0-403c-9d8f-a779dfceb90e",
   "metadata": {},
   "outputs": [
    {
     "data": {
      "text/plain": [
       "[]"
      ]
     },
     "execution_count": 9,
     "metadata": {},
     "output_type": "execute_result"
    }
   ],
   "source": [
    "data = BatteryDataset.make_cell_dataset(raw_data=raw_data)\n",
    "data.validate()"
   ]
  },
  {
   "cell_type": "code",
   "execution_count": 10,
   "id": "9aaa89b5-7ae1-4bfd-9732-7417d42a785b",
   "metadata": {},
   "outputs": [
    {
     "data": {
      "text/plain": [
       "{'raw_data': PosixPath('single-resistor-complex-charge_from-discharged/raw_data.parquet')}"
      ]
     },
     "execution_count": 10,
     "metadata": {},
     "output_type": "execute_result"
    }
   ],
   "source": [
    "data.to_hdf('single-resistor-complex-charge_from-discharged.hdf', complevel=9)\n",
    "data.to_parquet('single-resistor-complex-charge_from-discharged')"
   ]
  },
  {
   "cell_type": "code",
   "execution_count": null,
   "id": "12052b3e-36df-4696-ac6f-e68977ab5685",
   "metadata": {},
   "outputs": [],
   "source": []
  }
 ],
 "metadata": {
  "kernelspec": {
   "display_name": "moirae-thev (3.11.10)",
   "language": "python",
   "name": "python3"
  },
  "language_info": {
   "codemirror_mode": {
    "name": "ipython",
    "version": 3
   },
   "file_extension": ".py",
   "mimetype": "text/x-python",
   "name": "python",
   "nbconvert_exporter": "python",
   "pygments_lexer": "ipython3",
   "version": "3.11.10"
  }
 },
 "nbformat": 4,
 "nbformat_minor": 5
}
