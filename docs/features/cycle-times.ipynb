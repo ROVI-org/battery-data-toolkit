{
 "cells": [
  {
   "cell_type": "markdown",
   "id": "88ccedb1-c6ad-49f6-b330-a4770bbd20f6",
   "metadata": {},
   "source": [
    "# Cycle Times\n",
    "The time a cycle starts and its duration are two common metrics for segmenting battery datasets before analysis.\n",
    "The `CycleTimes` class computes them based on the data from labels of `cycle_number` in the raw data."
   ]
  },
  {
   "cell_type": "code",
   "execution_count": 1,
   "id": "516fdd56-ba75-409e-9596-01f46ffc9c08",
   "metadata": {},
   "outputs": [],
   "source": [
    "%matplotlib inline\n",
    "from matplotlib import pyplot as plt\n",
    "from batdata.postprocess.cycle_stats import CycleTimes\n",
    "from batdata.data import BatteryDataset\n",
    "import pandas as pd"
   ]
  },
  {
   "cell_type": "markdown",
   "id": "4cfcf498-de49-4f7f-9fef-0f918f59a16f",
   "metadata": {},
   "source": [
    "## Load Example Dataset\n",
    "The \"single-resistor\" datasets provided with battery-data-toolkit includes only a single cycle. \n",
    "We'll duplicate it to provide an example for this cycle."
   ]
  },
  {
   "cell_type": "code",
   "execution_count": 2,
   "id": "a332ad81-d7b0-4392-9a59-5b12e1ef438a",
   "metadata": {},
   "outputs": [
    {
     "data": {
      "text/html": [
       "<div>\n",
       "<style scoped>\n",
       "    .dataframe tbody tr th:only-of-type {\n",
       "        vertical-align: middle;\n",
       "    }\n",
       "\n",
       "    .dataframe tbody tr th {\n",
       "        vertical-align: top;\n",
       "    }\n",
       "\n",
       "    .dataframe thead th {\n",
       "        text-align: right;\n",
       "    }\n",
       "</style>\n",
       "<table border=\"1\" class=\"dataframe\">\n",
       "  <thead>\n",
       "    <tr style=\"text-align: right;\">\n",
       "      <th></th>\n",
       "      <th>test_time</th>\n",
       "      <th>current</th>\n",
       "      <th>voltage</th>\n",
       "      <th>cycle_number</th>\n",
       "    </tr>\n",
       "  </thead>\n",
       "  <tbody>\n",
       "    <tr>\n",
       "      <th>2396</th>\n",
       "      <td>7188.0</td>\n",
       "      <td>1.0</td>\n",
       "      <td>3.096667</td>\n",
       "      <td>0</td>\n",
       "    </tr>\n",
       "    <tr>\n",
       "      <th>2397</th>\n",
       "      <td>7191.0</td>\n",
       "      <td>1.0</td>\n",
       "      <td>3.097500</td>\n",
       "      <td>0</td>\n",
       "    </tr>\n",
       "    <tr>\n",
       "      <th>2398</th>\n",
       "      <td>7194.0</td>\n",
       "      <td>1.0</td>\n",
       "      <td>3.098333</td>\n",
       "      <td>0</td>\n",
       "    </tr>\n",
       "    <tr>\n",
       "      <th>2399</th>\n",
       "      <td>7197.0</td>\n",
       "      <td>1.0</td>\n",
       "      <td>3.099167</td>\n",
       "      <td>0</td>\n",
       "    </tr>\n",
       "    <tr>\n",
       "      <th>2400</th>\n",
       "      <td>7200.0</td>\n",
       "      <td>1.0</td>\n",
       "      <td>3.100000</td>\n",
       "      <td>0</td>\n",
       "    </tr>\n",
       "  </tbody>\n",
       "</table>\n",
       "</div>"
      ],
      "text/plain": [
       "      test_time  current   voltage  cycle_number\n",
       "2396     7188.0      1.0  3.096667             0\n",
       "2397     7191.0      1.0  3.097500             0\n",
       "2398     7194.0      1.0  3.098333             0\n",
       "2399     7197.0      1.0  3.099167             0\n",
       "2400     7200.0      1.0  3.100000             0"
      ]
     },
     "execution_count": 2,
     "metadata": {},
     "output_type": "execute_result"
    }
   ],
   "source": [
    "dataset = BatteryDataset.from_batdata_hdf('../../tests/files/example-data/single-resistor-constant-charge_from-charged.hdf')\n",
    "dataset.raw_data.tail()"
   ]
  },
  {
   "cell_type": "markdown",
   "id": "726e3954-0174-4883-920d-893a4d592598",
   "metadata": {},
   "source": [
    "Make a copy of the cycle, increment the `cycle_number` and advance the `test_time`."
   ]
  },
  {
   "cell_type": "code",
   "execution_count": 3,
   "id": "139131c6-7dbc-4061-b0d9-e7a8565d1024",
   "metadata": {},
   "outputs": [
    {
     "data": {
      "text/html": [
       "<div>\n",
       "<style scoped>\n",
       "    .dataframe tbody tr th:only-of-type {\n",
       "        vertical-align: middle;\n",
       "    }\n",
       "\n",
       "    .dataframe tbody tr th {\n",
       "        vertical-align: top;\n",
       "    }\n",
       "\n",
       "    .dataframe thead th {\n",
       "        text-align: right;\n",
       "    }\n",
       "</style>\n",
       "<table border=\"1\" class=\"dataframe\">\n",
       "  <thead>\n",
       "    <tr style=\"text-align: right;\">\n",
       "      <th></th>\n",
       "      <th>test_time</th>\n",
       "      <th>current</th>\n",
       "      <th>voltage</th>\n",
       "      <th>cycle_number</th>\n",
       "    </tr>\n",
       "  </thead>\n",
       "  <tbody>\n",
       "    <tr>\n",
       "      <th>0</th>\n",
       "      <td>7203.0</td>\n",
       "      <td>-1.0</td>\n",
       "      <td>2.899167</td>\n",
       "      <td>1</td>\n",
       "    </tr>\n",
       "    <tr>\n",
       "      <th>1</th>\n",
       "      <td>7206.0</td>\n",
       "      <td>-1.0</td>\n",
       "      <td>2.898333</td>\n",
       "      <td>1</td>\n",
       "    </tr>\n",
       "    <tr>\n",
       "      <th>2</th>\n",
       "      <td>7209.0</td>\n",
       "      <td>-1.0</td>\n",
       "      <td>2.897500</td>\n",
       "      <td>1</td>\n",
       "    </tr>\n",
       "    <tr>\n",
       "      <th>3</th>\n",
       "      <td>7212.0</td>\n",
       "      <td>-1.0</td>\n",
       "      <td>2.896667</td>\n",
       "      <td>1</td>\n",
       "    </tr>\n",
       "    <tr>\n",
       "      <th>4</th>\n",
       "      <td>7215.0</td>\n",
       "      <td>-1.0</td>\n",
       "      <td>2.895833</td>\n",
       "      <td>1</td>\n",
       "    </tr>\n",
       "  </tbody>\n",
       "</table>\n",
       "</div>"
      ],
      "text/plain": [
       "   test_time  current   voltage  cycle_number\n",
       "0     7203.0     -1.0  2.899167             1\n",
       "1     7206.0     -1.0  2.898333             1\n",
       "2     7209.0     -1.0  2.897500             1\n",
       "3     7212.0     -1.0  2.896667             1\n",
       "4     7215.0     -1.0  2.895833             1"
      ]
     },
     "execution_count": 3,
     "metadata": {},
     "output_type": "execute_result"
    }
   ],
   "source": [
    "cycle_two = dataset.raw_data.copy()\n",
    "cycle_two['cycle_number'] += 1\n",
    "cycle_two['test_time'] += cycle_two['test_time'].max() + cycle_two['test_time'].iloc[1]\n",
    "cycle_two.head()"
   ]
  },
  {
   "cell_type": "code",
   "execution_count": 4,
   "id": "57565c54-3794-4604-a95b-41fbd4f972fb",
   "metadata": {},
   "outputs": [],
   "source": [
    "dataset.raw_data = pd.concat([dataset.raw_data, cycle_two], ignore_index=True)"
   ]
  },
  {
   "cell_type": "markdown",
   "id": "ce8e2051-098c-48cd-aa7f-b199bdbaa1c6",
   "metadata": {},
   "source": [
    "## Compute the Cycle Time\n",
    "`CycleTimes` class computes two features: \n",
    "- `cycle_start`: The time elapsed between first measurement of the cycle and the first measurement for the battery\n",
    "- `cycle_duration`: The time elapsed between the start of the cycle and the beginning of the next cycle"
   ]
  },
  {
   "cell_type": "code",
   "execution_count": 5,
   "id": "dcaf8726-8d67-4c78-af25-fde515219910",
   "metadata": {},
   "outputs": [
    {
     "data": {
      "text/plain": [
       "['cycle_start', 'cycle_duration']"
      ]
     },
     "execution_count": 5,
     "metadata": {},
     "output_type": "execute_result"
    }
   ],
   "source": [
    "computer = CycleTimes()\n",
    "computer.column_names"
   ]
  },
  {
   "cell_type": "markdown",
   "id": "e3405363-9d7c-4549-8a36-2cac95ec0949",
   "metadata": {},
   "source": [
    "Compute them by calling the `compute_features` function."
   ]
  },
  {
   "cell_type": "code",
   "execution_count": 6,
   "id": "4dc5847d-bd14-4695-b30e-745c3a509d28",
   "metadata": {},
   "outputs": [
    {
     "data": {
      "text/html": [
       "<div>\n",
       "<style scoped>\n",
       "    .dataframe tbody tr th:only-of-type {\n",
       "        vertical-align: middle;\n",
       "    }\n",
       "\n",
       "    .dataframe tbody tr th {\n",
       "        vertical-align: top;\n",
       "    }\n",
       "\n",
       "    .dataframe thead th {\n",
       "        text-align: right;\n",
       "    }\n",
       "</style>\n",
       "<table border=\"1\" class=\"dataframe\">\n",
       "  <thead>\n",
       "    <tr style=\"text-align: right;\">\n",
       "      <th></th>\n",
       "      <th>cycle_number</th>\n",
       "      <th>cycle_start</th>\n",
       "      <th>cycle_duration</th>\n",
       "    </tr>\n",
       "  </thead>\n",
       "  <tbody>\n",
       "    <tr>\n",
       "      <th>0</th>\n",
       "      <td>0</td>\n",
       "      <td>0.0</td>\n",
       "      <td>7203.0</td>\n",
       "    </tr>\n",
       "    <tr>\n",
       "      <th>1</th>\n",
       "      <td>1</td>\n",
       "      <td>7203.0</td>\n",
       "      <td>7200.0</td>\n",
       "    </tr>\n",
       "  </tbody>\n",
       "</table>\n",
       "</div>"
      ],
      "text/plain": [
       "   cycle_number  cycle_start  cycle_duration\n",
       "0             0          0.0          7203.0\n",
       "1             1       7203.0          7200.0"
      ]
     },
     "execution_count": 6,
     "metadata": {},
     "output_type": "execute_result"
    }
   ],
   "source": [
    "computer.compute_features(dataset)"
   ]
  },
  {
   "cell_type": "markdown",
   "id": "28999d8b-f662-4b02-9bb1-e538792c9e41",
   "metadata": {},
   "source": [
    "The first cycle starts at 0 seconds and the second starts 7203 seconds later, yielding a cycle duration of 7203 seconds.\n",
    "\n",
    "There is no third cycle in our data file, so we only report the duration of the next cycle as the time between its first and last measurement: 7200 seconds."
   ]
  },
  {
   "cell_type": "code",
   "execution_count": null,
   "id": "e4425056-fe3a-40e8-a413-26137ab79d81",
   "metadata": {},
   "outputs": [],
   "source": []
  }
 ],
 "metadata": {
  "kernelspec": {
   "display_name": "Python 3 (ipykernel)",
   "language": "python",
   "name": "python3"
  },
  "language_info": {
   "codemirror_mode": {
    "name": "ipython",
    "version": 3
   },
   "file_extension": ".py",
   "mimetype": "text/x-python",
   "name": "python",
   "nbconvert_exporter": "python",
   "pygments_lexer": "ipython3",
   "version": "3.9.18"
  }
 },
 "nbformat": 4,
 "nbformat_minor": 5
}
